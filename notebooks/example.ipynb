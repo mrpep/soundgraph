{
 "cells": [
  {
   "cell_type": "code",
   "execution_count": 1,
   "id": "advanced-priority",
   "metadata": {},
   "outputs": [
    {
     "name": "stdout",
     "output_type": "stream",
     "text": [
      "Starting new session\n",
      "Use default output devices? [(Y)/n)]\n",
      "Use default input devices? [(Y)/n)]\n"
     ]
    },
    {
     "name": "stderr",
     "output_type": "stream",
     "text": [
      "/home/lpepino/anaconda3/lib/python3.7/site-packages/librosa/core/audio.py:162: UserWarning: PySoundFile failed. Trying audioread instead.\n",
      "  warnings.warn(\"PySoundFile failed. Trying audioread instead.\")\n",
      "/home/lpepino/anaconda3/lib/python3.7/site-packages/librosa/core/audio.py:162: UserWarning: PySoundFile failed. Trying audioread instead.\n",
      "  warnings.warn(\"PySoundFile failed. Trying audioread instead.\")\n",
      "/home/lpepino/anaconda3/lib/python3.7/site-packages/librosa/core/audio.py:162: UserWarning: PySoundFile failed. Trying audioread instead.\n",
      "  warnings.warn(\"PySoundFile failed. Trying audioread instead.\")\n",
      "/home/lpepino/anaconda3/lib/python3.7/site-packages/librosa/core/audio.py:162: UserWarning: PySoundFile failed. Trying audioread instead.\n",
      "  warnings.warn(\"PySoundFile failed. Trying audioread instead.\")\n",
      "/home/lpepino/anaconda3/lib/python3.7/site-packages/librosa/core/audio.py:162: UserWarning: PySoundFile failed. Trying audioread instead.\n",
      "  warnings.warn(\"PySoundFile failed. Trying audioread instead.\")\n"
     ]
    }
   ],
   "source": [
    "from soundgraph.graph import SoundGraph, SoundNode\n",
    "from soundgraph.utils import start_session\n",
    "from soundgraph.nodes import AudioReader, Mixer, Sampler, Oscillator, Scaler, MidiInput, MidiMapper\n",
    "import librosa\n",
    "import numpy as np\n",
    "\n",
    "session = start_session()\n",
    "\n",
    "samples = dict(\n",
    "    kick = '../samples/drumkits/Roland TR-808/Bassdrum-01.mp3',\n",
    "    hh_closed = '../samples/drumkits/Roland TR-808/Hat Closed.mp3',\n",
    "    hh_open = '../samples/drumkits/Roland TR-808/Hat Open.mp3',\n",
    "    snare = '../samples/drumkits/Roland TR-808/Snaredrum.mp3',\n",
    "    crash = '../samples/drumkits/Roland TR-808/Crash-01.mp3'\n",
    ")\n",
    "\n",
    "beat = dict(\n",
    "    kick =      [1,0,0,0,1,0,0,0,1,0,0,0,1,0,0,0],\n",
    "    hh_closed = [1,0,0,0,1,0,0,0,1,0,0,0,1,0,0,0],\n",
    "    hh_open =   [0,0,1,0,0,0,1,0,0,0,1,0,0,0,1,0],\n",
    "    crash =     [1,0,0,0,0,0,0,0,0,0,0,0,0,0,0,0],\n",
    "    snare =     [0,0,1,0,0,0,1,0,0,0,1,0,0,0,1,0]\n",
    ")\n",
    "\n",
    "sampler = Sampler(name='sampler')\n",
    "for k,v in samples.items():\n",
    "    sampler.update_sample(k,v)\n",
    "    \n",
    "sampler.update('beat',beat)\n",
    "\n",
    "sound_graph = SoundGraph()\n",
    "sound_graph.add(sampler)\n",
    "sound_graph.set_output('sampler.out')\n",
    "session.set_graph(sound_graph)"
   ]
  },
  {
   "cell_type": "code",
   "execution_count": 2,
   "id": "objective-witness",
   "metadata": {},
   "outputs": [],
   "source": [
    "sampler.update('bpm',100)\n",
    "sampler.update('divisions_per_bar',4)\n",
    "sampler.update('bars',4)\n",
    "\n",
    "beat = dict(\n",
    "    kick =      [1,0,0,1,0,1,0,1,0,1,0,0,1,1,1,1],\n",
    "    hh_closed = [1,0,1,0,0,0,1,0,1,1,0,0,1,0,1,0],\n",
    "    hh_open =   [0,0,0,0,1,1,0,1,0,0,1,0,1,0,0,0],\n",
    "    crash =     [0,0,0,0,0,0,0,0,0,0,0,0,0,0,0,0],\n",
    "    snare =     [1,0,0,0,1,0,0,0,0,0,1,0,1,1,0,0]\n",
    ")\n",
    "\n",
    "sampler.update('beat',beat)"
   ]
  },
  {
   "cell_type": "code",
   "execution_count": 3,
   "id": "finnish-headset",
   "metadata": {},
   "outputs": [],
   "source": [
    "osc1 = Oscillator(name='osc1')\n",
    "sound_graph.add(osc1)\n",
    "mixer = Mixer(name='mixer')\n",
    "sound_graph.add(mixer)\n",
    "sound_graph.connect('osc1.out','mixer.in_1')\n",
    "sound_graph.connect('sampler.out','mixer.in_2')\n",
    "mixer.update('volume_1',0.3)\n",
    "mixer.update('volume_2',0.7)\n",
    "sound_graph.set_output('mixer.out')"
   ]
  },
  {
   "cell_type": "code",
   "execution_count": 4,
   "id": "front-voice",
   "metadata": {},
   "outputs": [],
   "source": [
    "lfo1 = Oscillator(name='lfo1')\n",
    "sound_graph.add(lfo1)\n",
    "sound_graph.connect('lfo1.out','osc1.frequency')"
   ]
  },
  {
   "cell_type": "code",
   "execution_count": 5,
   "id": "rural-north",
   "metadata": {},
   "outputs": [],
   "source": [
    "lfo1.update('frequency',12)\n",
    "lfo1.update('amplitude',30)\n",
    "lfo1.update('offset',550)\n",
    "lfo1.update('osc_type','square')\n",
    "osc1.update('osc_type','square')\n",
    "mixer.update('volume_1',0.08)\n",
    "mixer.update('volume_2',0.9)"
   ]
  },
  {
   "cell_type": "code",
   "execution_count": 6,
   "id": "executed-friday",
   "metadata": {},
   "outputs": [],
   "source": [
    "lx61_controls = MidiInput(name='lx61_controls')\n",
    "lx61_controls.update('port','Impact LX61+:Impact LX61+ MIDI 2 32:1')\n",
    "freq_mapping = MidiMapper(name='freq_mapper')\n",
    "freq_mapping_config = dict(\n",
    "    channel=15,\n",
    "    control=63,\n",
    "    map_parameter='value',\n",
    "    mapping=np.logspace(1,np.log(8000)/np.log(20),128,base=20)\n",
    ")\n",
    "freq_mapping.update('mapping',freq_mapping_config)\n",
    "sound_graph.add(freq_mapping)\n",
    "sound_graph.add(lx61_controls)\n",
    "sound_graph.connect('lx61_controls.out','freq_mapper.midi_in')\n",
    "sound_graph.connect('freq_mapper.out','lfo1.offset')"
   ]
  },
  {
   "cell_type": "code",
   "execution_count": 7,
   "id": "ahead-chassis",
   "metadata": {},
   "outputs": [],
   "source": [
    "lfo_mapping = MidiMapper(name='lfo_mapper')\n",
    "lfo_mapping_config = dict(\n",
    "    channel=15,\n",
    "    control=62,\n",
    "    map_parameter='value',\n",
    "    mapping=np.linspace(0.01,50,128)\n",
    ")\n",
    "lfo_mapping.update('mapping',lfo_mapping_config)\n",
    "sound_graph.add(lfo_mapping)\n",
    "sound_graph.connect('lx61_controls.out','lfo_mapper.midi_in')\n",
    "sound_graph.connect('lfo_mapper.out','lfo1.frequency')"
   ]
  },
  {
   "cell_type": "code",
   "execution_count": 25,
   "id": "delayed-service",
   "metadata": {},
   "outputs": [],
   "source": [
    "scaler_freq = Scaler(name='scale_sampler_freq')\n",
    "scaler_amp = Scaler(name='scale_sampler_amp')\n",
    "scaler_freq.update('scale',1000)\n",
    "scaler_amp.update('scale',100)\n",
    "sound_graph.add(scaler_freq)\n",
    "sound_graph.add(scaler_amp)\n",
    "sound_graph.connect('sampler.out','scale_sampler_freq.input')\n",
    "sound_graph.connect('sampler.out','scale_sampler_amp.input')\n",
    "sound_graph.connect('scale_sampler_freq.out','lfo1.offset')\n",
    "sound_graph.connect('scale_sampler_amp.out','lfo1.amplitude')"
   ]
  },
  {
   "cell_type": "code",
   "execution_count": 33,
   "id": "existing-vancouver",
   "metadata": {},
   "outputs": [],
   "source": [
    "scaler_freq.update('scale',3000)\n",
    "scaler_amp.update('scale',2000)\n",
    "lfo1.update('frequency',0.05)\n",
    "lfo1.update('osc_type','sin')"
   ]
  },
  {
   "cell_type": "code",
   "execution_count": 8,
   "id": "infrared-mozambique",
   "metadata": {},
   "outputs": [],
   "source": [
    "lfo1.update('osc_type','sin')"
   ]
  },
  {
   "cell_type": "code",
   "execution_count": null,
   "id": "absolute-robin",
   "metadata": {},
   "outputs": [],
   "source": []
  }
 ],
 "metadata": {
  "kernelspec": {
   "display_name": "Python 3",
   "language": "python",
   "name": "python3"
  },
  "language_info": {
   "codemirror_mode": {
    "name": "ipython",
    "version": 3
   },
   "file_extension": ".py",
   "mimetype": "text/x-python",
   "name": "python",
   "nbconvert_exporter": "python",
   "pygments_lexer": "ipython3",
   "version": "3.7.6"
  }
 },
 "nbformat": 4,
 "nbformat_minor": 5
}
