{
 "cells": [
  {
   "cell_type": "markdown",
   "id": "intellectual-squad",
   "metadata": {},
   "source": [
    "First, import necessary modules and start the session. A CLI interface will be shown to setup the sound devices."
   ]
  },
  {
   "cell_type": "code",
   "execution_count": 1,
   "id": "alone-cannon",
   "metadata": {},
   "outputs": [
    {
     "name": "stdout",
     "output_type": "stream",
     "text": [
      "Starting new session\n",
      "Use default output devices? [(Y)/n)]\n",
      "Use default input devices? [(Y)/n)]\n"
     ]
    }
   ],
   "source": [
    "from soundgraph.graph import SoundGraph, SoundNode\n",
    "from soundgraph.utils import start_session\n",
    "from soundgraph.nodes import AudioReader, Mixer, Sampler, Oscillator, Scaler, MidiInput, MidiMapper\n",
    "import librosa\n",
    "import numpy as np\n",
    "\n",
    "session = start_session()"
   ]
  },
  {
   "cell_type": "markdown",
   "id": "south-architecture",
   "metadata": {},
   "source": [
    "Let's make a drum machine. For that, we create a dictionary with the paths to each audio, and another dictionary with binary lists indicating in which division to trigger each sound."
   ]
  },
  {
   "cell_type": "code",
   "execution_count": 2,
   "id": "experienced-catholic",
   "metadata": {},
   "outputs": [],
   "source": [
    "samples = dict(\n",
    "    kick = '../samples/drumkits/Roland TR-808/Bassdrum-01.mp3',\n",
    "    hh_closed = '../samples/drumkits/Roland TR-808/Hat Closed.mp3',\n",
    "    hh_open = '../samples/drumkits/Roland TR-808/Hat Open.mp3',\n",
    "    snare = '../samples/drumkits/Roland TR-808/Snaredrum.mp3',\n",
    "    crash = '../samples/drumkits/Roland TR-808/Crash-01.mp3'\n",
    ")\n",
    "\n",
    "beat = dict(\n",
    "    kick =      [1,0,0,0,1,0,0,0,1,0,0,0,1,0,0,0],\n",
    "    hh_closed = [1,0,0,0,1,0,0,0,1,0,0,0,1,0,0,0],\n",
    "    hh_open =   [0,0,1,0,0,0,1,0,0,0,1,0,0,0,1,0],\n",
    "    crash =     [1,0,0,0,0,0,0,0,0,0,0,0,0,0,0,0],\n",
    "    snare =     [0,0,1,0,0,0,1,0,0,0,1,0,0,0,1,0]\n",
    ")"
   ]
  },
  {
   "cell_type": "markdown",
   "id": "lovely-title",
   "metadata": {},
   "source": [
    "Then we create a sampler node, name it 'sampler' and assign each of the samples of the dictionary via update_sample(name, path), and the beat via update('beat', beat).\n",
    "Each node has the update(parameter, value) method, which allows to change the value of a parameter."
   ]
  },
  {
   "cell_type": "code",
   "execution_count": 3,
   "id": "balanced-christian",
   "metadata": {},
   "outputs": [
    {
     "name": "stderr",
     "output_type": "stream",
     "text": [
      "/home/lpepino/anaconda3/lib/python3.7/site-packages/librosa/core/audio.py:162: UserWarning: PySoundFile failed. Trying audioread instead.\n",
      "  warnings.warn(\"PySoundFile failed. Trying audioread instead.\")\n",
      "/home/lpepino/anaconda3/lib/python3.7/site-packages/librosa/core/audio.py:162: UserWarning: PySoundFile failed. Trying audioread instead.\n",
      "  warnings.warn(\"PySoundFile failed. Trying audioread instead.\")\n",
      "/home/lpepino/anaconda3/lib/python3.7/site-packages/librosa/core/audio.py:162: UserWarning: PySoundFile failed. Trying audioread instead.\n",
      "  warnings.warn(\"PySoundFile failed. Trying audioread instead.\")\n",
      "/home/lpepino/anaconda3/lib/python3.7/site-packages/librosa/core/audio.py:162: UserWarning: PySoundFile failed. Trying audioread instead.\n",
      "  warnings.warn(\"PySoundFile failed. Trying audioread instead.\")\n",
      "/home/lpepino/anaconda3/lib/python3.7/site-packages/librosa/core/audio.py:162: UserWarning: PySoundFile failed. Trying audioread instead.\n",
      "  warnings.warn(\"PySoundFile failed. Trying audioread instead.\")\n"
     ]
    }
   ],
   "source": [
    "sampler = Sampler(name='sampler')\n",
    "for k,v in samples.items():\n",
    "    sampler.update_sample(k,v)\n",
    "    \n",
    "sampler.update('beat',beat)"
   ]
  },
  {
   "cell_type": "markdown",
   "id": "recorded-blast",
   "metadata": {},
   "source": [
    "Then, we have to instantiate a **SoundGraph**, which is a collection of **SoundNodes**. We add the sampler via **add()**, and set the output of the SoundGraph via **set_output(node_dir)**. Each node and its parameters and outputs have a unique identifier. In this case, the output of the sampler is 'sampler.out', and in general, the pattern is 'node_name.parameter/output'. The output, unless there are multiple outputs, is called 'out'. This output is the node which will feed the output device and we'll listen to.\n",
    "\n",
    "Finally, we assign the graph to the session via **set_graph(SoundGraph)**"
   ]
  },
  {
   "cell_type": "code",
   "execution_count": 4,
   "id": "studied-separate",
   "metadata": {},
   "outputs": [],
   "source": [
    "sound_graph = SoundGraph()\n",
    "sound_graph.add(sampler)\n",
    "sound_graph.set_output('sampler.out')\n",
    "session.set_graph(sound_graph)"
   ]
  },
  {
   "cell_type": "markdown",
   "id": "charitable-failing",
   "metadata": {},
   "source": [
    "Now, you should be listening to a drum beat. Let's change parameters on the fly, we will change the bpm, divisions_per_bar, bars, and the beat, using the **update(parameter,value)** method. You can change whatever you want in this cell once and again, and the changes will be reflected in the sounds you are listening almost instantaneously."
   ]
  },
  {
   "cell_type": "code",
   "execution_count": 5,
   "id": "moral-arbor",
   "metadata": {},
   "outputs": [],
   "source": [
    "sampler.update('bpm',70)\n",
    "sampler.update('divisions_per_bar',4)\n",
    "sampler.update('bars',4)\n",
    "\n",
    "beat = dict(\n",
    "    kick =      [1,0,0,1,0,1,1,1,0,1,0,0,1,1,1,1],\n",
    "    hh_closed = [1,0,1,0,0,0,1,0,1,1,0,0,1,0,1,0],\n",
    "    hh_open =   [0,0,0,0,1,1,0,1,0,0,1,0,1,0,0,0],\n",
    "    crash =     [1,0,0,0,0,0,0,0,0,0,0,0,0,0,0,0],\n",
    "    snare =     [1,0,0,0,1,0,0,0,0,0,1,1,1,1,0,0]\n",
    ")\n",
    "\n",
    "sampler.update('beat',beat)"
   ]
  },
  {
   "cell_type": "markdown",
   "id": "proved-bandwidth",
   "metadata": {},
   "source": [
    "Let's add an oscillator."
   ]
  },
  {
   "cell_type": "code",
   "execution_count": 6,
   "id": "inside-necklace",
   "metadata": {},
   "outputs": [],
   "source": [
    "osc1 = Oscillator(name='osc1')\n",
    "osc1.update('frequency',220)\n",
    "sound_graph.add(osc1)"
   ]
  },
  {
   "cell_type": "markdown",
   "id": "personal-accuracy",
   "metadata": {},
   "source": [
    "We need to connect it somehow to the output, without removing the drumbeat, for that we need a mixer which takes the sampler and the oscillator outputs as input. We make these connections using the method **connect(source, destination)**"
   ]
  },
  {
   "cell_type": "code",
   "execution_count": 7,
   "id": "nervous-action",
   "metadata": {},
   "outputs": [],
   "source": [
    "mixer = Mixer(name='mixer')\n",
    "sound_graph.add(mixer)\n",
    "sound_graph.connect('osc1.out','mixer.in_1')\n",
    "sound_graph.connect('sampler.out','mixer.in_2')\n",
    "mixer.update('volume_1',0.3)\n",
    "mixer.update('volume_2',0.7)\n",
    "sound_graph.set_output('mixer.out')"
   ]
  },
  {
   "cell_type": "markdown",
   "id": "progressive-palmer",
   "metadata": {},
   "source": [
    "We can change the frequency, amplitude, offset and oscillator shape"
   ]
  },
  {
   "cell_type": "code",
   "execution_count": 8,
   "id": "identified-module",
   "metadata": {},
   "outputs": [],
   "source": [
    "osc1.update('osc_type','square')\n",
    "osc1.update('frequency',110)\n",
    "osc1.update('amplitude',0.4)\n",
    "osc1.update('offset',0)"
   ]
  },
  {
   "cell_type": "markdown",
   "id": "federal-setting",
   "metadata": {},
   "source": [
    "Let's make it more interesting by adding a LFO, which will modulate the oscillator frequency. This happens in the line ``sound_graph.connect('lfo1.out','osc1.frequency')``"
   ]
  },
  {
   "cell_type": "code",
   "execution_count": 9,
   "id": "studied-transition",
   "metadata": {},
   "outputs": [],
   "source": [
    "lfo1 = Oscillator(name='lfo1')\n",
    "sound_graph.add(lfo1)\n",
    "sound_graph.connect('lfo1.out','osc1.frequency')\n",
    "\n",
    "lfo1.update('frequency',10)\n",
    "lfo1.update('amplitude',20)\n",
    "lfo1.update('offset',110)\n",
    "lfo1.update('osc_type','saw')\n",
    "osc1.update('osc_type','square')\n",
    "mixer.update('volume_1',0.08)\n",
    "mixer.update('volume_2',0.9)"
   ]
  },
  {
   "cell_type": "markdown",
   "id": "nominated-harvard",
   "metadata": {},
   "source": [
    "Now, the offset of the LFO controls the central frequency of the oscillator, the amplitude its variation around that center, and the frequency, the rate at which the frequency oscillates."
   ]
  },
  {
   "cell_type": "code",
   "execution_count": 13,
   "id": "american-pointer",
   "metadata": {},
   "outputs": [],
   "source": [
    "lfo1.update('frequency',0.857)\n",
    "lfo1.update('amplitude',220)\n",
    "lfo1.update('offset',440)"
   ]
  },
  {
   "cell_type": "markdown",
   "id": "sharing-marks",
   "metadata": {},
   "source": [
    "Let's add midi controls! First, let's look at our available MIDI devices:"
   ]
  },
  {
   "cell_type": "code",
   "execution_count": 14,
   "id": "peaceful-sessions",
   "metadata": {},
   "outputs": [
    {
     "data": {
      "text/plain": [
       "['Midi Through:Midi Through Port-0 14:0',\n",
       " 'iO|2:iO|2 MIDI 1 16:0',\n",
       " 'Impact LX61+:Impact LX61+ MIDI 1 20:0',\n",
       " 'Impact LX61+:Impact LX61+ MIDI 2 20:1',\n",
       " 'Midi Through:Midi Through Port-0 14:0',\n",
       " 'iO|2:iO|2 MIDI 1 16:0',\n",
       " 'Impact LX61+:Impact LX61+ MIDI 1 20:0']"
      ]
     },
     "execution_count": 14,
     "metadata": {},
     "output_type": "execute_result"
    }
   ],
   "source": [
    "import mido\n",
    "\n",
    "mido.get_input_names()"
   ]
  },
  {
   "cell_type": "markdown",
   "id": "wrong-foster",
   "metadata": {},
   "source": [
    "We will use the 'Impact LX61+:Impact LX61+ MIDI 2 20:1' device. Then, we have to recognize the control that we want to use. Run the next cell, and then move the desired control"
   ]
  },
  {
   "cell_type": "code",
   "execution_count": 15,
   "id": "whole-front",
   "metadata": {},
   "outputs": [
    {
     "data": {
      "text/plain": [
       "Message('control_change', channel=15, control=63, value=92, time=0)"
      ]
     },
     "execution_count": 15,
     "metadata": {},
     "output_type": "execute_result"
    }
   ],
   "source": [
    "midi_in = mido.open_input('Impact LX61+:Impact LX61+ MIDI 2 20:1')\n",
    "midi_in.receive()"
   ]
  },
  {
   "cell_type": "markdown",
   "id": "funky-grill",
   "metadata": {},
   "source": [
    "Once the control is changed, a message is printed. We can see the channel and control number we moved.\n",
    "\n",
    "Now, let's connect the control to the LFO offset. We have 2 nodes: **MidiInput** and the **MidiMapper**. The MidiInput listens to a midi port for messages. We indicate the midi device using the **port** parameter. The MidiMapper looks at those midi messages and filters them. In this case, the freq_mapper, will look for messages of the control 63 in the channel 15. This control can take 128 different values (8 bits) in the 'value' parameter. With mapping, we indicate how to interpret each of those values, in this case, the range 0-128 is turned into a logarithmically spaced range between 20-8000, so by turning our knob we will be able to change the lfo1 offset in a range of 20-8000 Hz."
   ]
  },
  {
   "cell_type": "code",
   "execution_count": 28,
   "id": "plastic-links",
   "metadata": {},
   "outputs": [],
   "source": [
    "lx61_controls = MidiInput(name='lx61_controls')\n",
    "lx61_controls.update('port','Impact LX61+:Impact LX61+ MIDI 2 20:1')\n",
    "freq_mapping = MidiMapper(name='freq_mapper')\n",
    "freq_mapping_config = dict(\n",
    "    channel=15,\n",
    "    control=63,\n",
    "    map_parameter='value',\n",
    "    mapping=np.logspace(1,np.log(8000)/np.log(20),128,base=20)\n",
    ")\n",
    "freq_mapping.update('mapping',freq_mapping_config)\n",
    "sound_graph.add(freq_mapping)\n",
    "sound_graph.add(lx61_controls)\n",
    "sound_graph.connect('lx61_controls.out','freq_mapper.midi_in')\n",
    "sound_graph.connect('freq_mapper.out','lfo1.offset')"
   ]
  },
  {
   "cell_type": "markdown",
   "id": "posted-taiwan",
   "metadata": {},
   "source": [
    "Let's add another midi control to change the LFO frequency:"
   ]
  },
  {
   "cell_type": "code",
   "execution_count": 27,
   "id": "affected-married",
   "metadata": {},
   "outputs": [],
   "source": [
    "lfo_mapping = MidiMapper(name='lfo_mapper')\n",
    "lfo_mapping_config = dict(\n",
    "    channel=15,\n",
    "    control=62,\n",
    "    map_parameter='value',\n",
    "    mapping=np.linspace(0.01,200,128)\n",
    ")\n",
    "lfo_mapping.update('mapping',lfo_mapping_config)\n",
    "sound_graph.add(lfo_mapping)\n",
    "sound_graph.connect('lx61_controls.out','lfo_mapper.midi_in')\n",
    "sound_graph.connect('lfo_mapper.out','lfo1.frequency')"
   ]
  },
  {
   "cell_type": "markdown",
   "id": "vertical-ukraine",
   "metadata": {},
   "source": [
    "Now let's assign some faders to control the mix between the drums and the oscillator:"
   ]
  },
  {
   "cell_type": "code",
   "execution_count": 18,
   "id": "disabled-catering",
   "metadata": {},
   "outputs": [],
   "source": [
    "mix1_mapping = MidiMapper(name='mix1_mapper')\n",
    "mix1_mapping_config = dict(\n",
    "    channel=15,\n",
    "    control=38,\n",
    "    map_parameter='value',\n",
    "    mapping=np.linspace(0,1,128),\n",
    "    last_state=0.08\n",
    ")\n",
    "mix1_mapping.update('mapping',mix1_mapping_config)\n",
    "sound_graph.add(mix1_mapping)\n",
    "sound_graph.connect('lx61_controls.out','mix1_mapper.midi_in')\n",
    "sound_graph.connect('mix1_mapper.out','mixer.volume_1')\n",
    "\n",
    "mix2_mapping = MidiMapper(name='mix2_mapper')\n",
    "mix2_mapping_config = dict(\n",
    "    channel=15,\n",
    "    control=39,\n",
    "    map_parameter='value',\n",
    "    mapping=np.linspace(0,1,128),\n",
    "    last_state=0.9\n",
    ")\n",
    "mix2_mapping.update('mapping',mix2_mapping_config)\n",
    "sound_graph.add(mix2_mapping)\n",
    "sound_graph.connect('lx61_controls.out','mix2_mapper.midi_in')\n",
    "sound_graph.connect('mix2_mapper.out','mixer.volume_2')"
   ]
  },
  {
   "cell_type": "markdown",
   "id": "copyrighted-instrument",
   "metadata": {},
   "source": [
    "Something more experimental! Let's control the LFO parameters with the drumbeat. For example, we can connect the sampler output to the LFO offset and amplitude. However, the drumbeat is a waveform with a range of -1 to 1, which will be an inaudible change in the LFO parameters. To address this problem, we add some **Scaler** in between, which multiplies the sampler output."
   ]
  },
  {
   "cell_type": "code",
   "execution_count": 26,
   "id": "connected-headquarters",
   "metadata": {},
   "outputs": [],
   "source": [
    "scaler_freq = Scaler(name='scale_sampler_freq')\n",
    "scaler_amp = Scaler(name='scale_sampler_amp')\n",
    "scaler_freq.update('scale',1000)\n",
    "scaler_amp.update('scale',100)\n",
    "sound_graph.add(scaler_freq)\n",
    "sound_graph.add(scaler_amp)\n",
    "sound_graph.connect('sampler.out','scale_sampler_freq.input')\n",
    "sound_graph.connect('sampler.out','scale_sampler_amp.input')\n",
    "sound_graph.connect('scale_sampler_freq.out','lfo1.offset')\n",
    "sound_graph.connect('scale_sampler_amp.out','lfo1.amplitude')"
   ]
  },
  {
   "cell_type": "code",
   "execution_count": 25,
   "id": "floating-rogers",
   "metadata": {},
   "outputs": [],
   "source": [
    "scaler_freq.update('scale',3000)\n",
    "scaler_amp.update('scale',1000)\n",
    "lfo1.update('frequency',0.05)\n",
    "lfo1.update('osc_type','sin')"
   ]
  }
 ],
 "metadata": {
  "kernelspec": {
   "display_name": "Python 3",
   "language": "python",
   "name": "python3"
  },
  "language_info": {
   "codemirror_mode": {
    "name": "ipython",
    "version": 3
   },
   "file_extension": ".py",
   "mimetype": "text/x-python",
   "name": "python",
   "nbconvert_exporter": "python",
   "pygments_lexer": "ipython3",
   "version": "3.7.6"
  }
 },
 "nbformat": 4,
 "nbformat_minor": 5
}
