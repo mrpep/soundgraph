{
 "cells": [
  {
   "cell_type": "code",
   "execution_count": 1,
   "id": "worth-aberdeen",
   "metadata": {},
   "outputs": [
    {
     "name": "stdout",
     "output_type": "stream",
     "text": [
      "Starting new session\n",
      "Use default output devices? [(Y)/n)]\n",
      "Use default input devices? [(Y)/n)]\n"
     ]
    },
    {
     "name": "stderr",
     "output_type": "stream",
     "text": [
      "/home/lpepino/anaconda3/lib/python3.7/site-packages/librosa/core/audio.py:162: UserWarning: PySoundFile failed. Trying audioread instead.\n",
      "  warnings.warn(\"PySoundFile failed. Trying audioread instead.\")\n",
      "/home/lpepino/anaconda3/lib/python3.7/site-packages/librosa/core/audio.py:162: UserWarning: PySoundFile failed. Trying audioread instead.\n",
      "  warnings.warn(\"PySoundFile failed. Trying audioread instead.\")\n",
      "/home/lpepino/anaconda3/lib/python3.7/site-packages/librosa/core/audio.py:162: UserWarning: PySoundFile failed. Trying audioread instead.\n",
      "  warnings.warn(\"PySoundFile failed. Trying audioread instead.\")\n",
      "/home/lpepino/anaconda3/lib/python3.7/site-packages/librosa/core/audio.py:162: UserWarning: PySoundFile failed. Trying audioread instead.\n",
      "  warnings.warn(\"PySoundFile failed. Trying audioread instead.\")\n",
      "/home/lpepino/anaconda3/lib/python3.7/site-packages/librosa/core/audio.py:162: UserWarning: PySoundFile failed. Trying audioread instead.\n",
      "  warnings.warn(\"PySoundFile failed. Trying audioread instead.\")\n"
     ]
    }
   ],
   "source": [
    "from soundgraph.graph import SoundGraph, SoundNode\n",
    "from soundgraph.utils import start_session\n",
    "from soundgraph.nodes import AudioReader, Mixer, Sampler, Oscillator, Scaler\n",
    "import librosa\n",
    "import numpy as np\n",
    "\n",
    "session = start_session()\n",
    "\n",
    "samples = dict(\n",
    "    kick = '../samples/drumkits/Roland TR-808/Bassdrum-01.mp3',\n",
    "    hh_closed = '../samples/drumkits/Roland TR-808/Hat Closed.mp3',\n",
    "    hh_open = '../samples/drumkits/Roland TR-808/Hat Open.mp3',\n",
    "    snare = '../samples/drumkits/Roland TR-808/Snaredrum.mp3',\n",
    "    crash = '../samples/drumkits/Roland TR-808/Crash-01.mp3'\n",
    ")\n",
    "\n",
    "beat = dict(\n",
    "    kick =      [1,0,0,0,1,0,0,0,1,0,0,0,1,0,0,0],\n",
    "    hh_closed = [1,0,0,0,1,0,0,0,1,0,0,0,1,0,0,0],\n",
    "    hh_open =   [0,0,1,0,0,0,1,0,0,0,1,0,0,0,1,0],\n",
    "    crash =     [1,0,0,0,0,0,0,0,0,0,0,0,0,0,0,0],\n",
    "    snare =     [0,0,1,0,0,0,1,0,0,0,1,0,0,0,1,0]\n",
    ")\n",
    "\n",
    "sampler = Sampler(name='sampler')\n",
    "for k,v in samples.items():\n",
    "    sampler.update_sample(k,v)\n",
    "    \n",
    "sampler.update('beat',beat)\n",
    "\n",
    "sound_graph = SoundGraph()\n",
    "sound_graph.add(sampler)\n",
    "sound_graph.set_output('sampler.out')\n",
    "session.set_graph(sound_graph)"
   ]
  },
  {
   "cell_type": "code",
   "execution_count": 155,
   "id": "african-heating",
   "metadata": {},
   "outputs": [],
   "source": [
    "sampler.update('bpm',160)\n",
    "sampler.update('divisions_per_bar',4)\n",
    "sampler.update('bars',4)\n",
    "\n",
    "beat = dict(\n",
    "    kick =      [1,0,0,0,1,0,0,1,1,1,0,1,0,1,1,1],\n",
    "    hh_closed = [1,0,1,0,0,0,1,0,1,1,0,0,1,0,0,0],\n",
    "    hh_open =   [0,0,0,0,0,1,0,1,0,0,1,0,1,0,0,0],\n",
    "    crash =     [0,0,0,0,0,0,0,0,0,0,0,0,0,0,0,0],\n",
    "    snare =     [1,0,0,0,1,0,0,0,0,0,1,0,1,1,0,0]\n",
    ")\n",
    "\n",
    "sampler.update('beat',beat)"
   ]
  },
  {
   "cell_type": "code",
   "execution_count": 3,
   "id": "sensitive-bobby",
   "metadata": {},
   "outputs": [],
   "source": [
    "osc1 = Oscillator(name='osc1')\n",
    "sound_graph.add(osc1)\n",
    "mixer = Mixer(name='mixer')\n",
    "sound_graph.add(mixer)\n",
    "sound_graph.connect('osc1.out','mixer.in_1')\n",
    "sound_graph.connect('sampler.out','mixer.in_2')\n",
    "mixer.update('volume_1',0.3)\n",
    "mixer.update('volume_2',0.7)\n",
    "sound_graph.set_output('mixer.out')"
   ]
  },
  {
   "cell_type": "code",
   "execution_count": 4,
   "id": "constitutional-breathing",
   "metadata": {},
   "outputs": [],
   "source": [
    "lfo1 = Oscillator(name='lfo1')\n",
    "sound_graph.add(lfo1)\n",
    "sound_graph.connect('lfo1.out','osc1.frequency')"
   ]
  },
  {
   "cell_type": "code",
   "execution_count": 5,
   "id": "helpful-knowing",
   "metadata": {},
   "outputs": [],
   "source": [
    "#lfo1.update('frequency',15)\n",
    "lfo1.update('amplitude',30)\n",
    "lfo1.update('offset',30)\n",
    "lfo1.update('osc_type','square')\n",
    "osc1.update('osc_type','square')\n",
    "mixer.update('volume_1',0.08)\n",
    "mixer.update('volume_2',0.9)"
   ]
  },
  {
   "cell_type": "code",
   "execution_count": 18,
   "id": "numerous-receptor",
   "metadata": {},
   "outputs": [],
   "source": [
    "scaler_freq = Scaler(name='scale_sampler_freq')\n",
    "scaler_amp = Scaler(name='scale_sampler_amp')\n",
    "scaler_freq.update('scale',1000)\n",
    "scaler_amp.update('scale',100)\n",
    "sound_graph.add(scaler_freq)\n",
    "sound_graph.add(scaler_amp)\n",
    "sound_graph.connect('sampler.out','scale_sampler_freq.input')\n",
    "sound_graph.connect('sampler.out','scale_sampler_amp.input')\n",
    "sound_graph.connect('scale_sampler_freq.out','lfo1.offset')\n",
    "sound_graph.connect('scale_sampler_amp.out','lfo1.amplitude')"
   ]
  },
  {
   "cell_type": "code",
   "execution_count": 148,
   "id": "stylish-quick",
   "metadata": {},
   "outputs": [],
   "source": [
    "scaler_freq.update('scale',4000)\n",
    "scaler_amp.update('scale',1000)\n",
    "lfo1.update('frequency',0.1)\n",
    "lfo1.update('osc_type','sin')"
   ]
  },
  {
   "cell_type": "code",
   "execution_count": null,
   "id": "considered-cotton",
   "metadata": {},
   "outputs": [],
   "source": []
  }
 ],
 "metadata": {
  "kernelspec": {
   "display_name": "Python 3",
   "language": "python",
   "name": "python3"
  },
  "language_info": {
   "codemirror_mode": {
    "name": "ipython",
    "version": 3
   },
   "file_extension": ".py",
   "mimetype": "text/x-python",
   "name": "python",
   "nbconvert_exporter": "python",
   "pygments_lexer": "ipython3",
   "version": "3.7.6"
  }
 },
 "nbformat": 4,
 "nbformat_minor": 5
}
